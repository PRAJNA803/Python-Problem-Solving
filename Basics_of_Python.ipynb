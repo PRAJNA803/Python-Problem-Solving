{
  "cells": [
    {
      "cell_type": "markdown",
      "metadata": {
        "id": "view-in-github",
        "colab_type": "text"
      },
      "source": [
        "<a href=\"https://colab.research.google.com/github/PRAJNA803/Python-Problem-Solving/blob/main/Basics_of_Python.ipynb\" target=\"_parent\"><img src=\"https://colab.research.google.com/assets/colab-badge.svg\" alt=\"Open In Colab\"/></a>"
      ]
    },
    {
      "cell_type": "code",
      "execution_count": null,
      "metadata": {
        "colab": {
          "base_uri": "https://localhost:8080/"
        },
        "id": "x2TsWvxKxQWv",
        "outputId": "fa2e1811-6edb-4eb8-87c8-d6cbdce7ee88"
      },
      "outputs": [
        {
          "name": "stdout",
          "output_type": "stream",
          "text": [
            "11\n",
            "-1 -1 2 -1 -1 -1 -1 -1 -1 -1 -1\n",
            "8\n"
          ]
        }
      ],
      "source": [
        "n=int(input())\n",
        "police,unsolved=0,0\n",
        "events=list(map(int,input().split()))\n",
        "for e in events:\n",
        "  if e==-1:\n",
        "    if police>0:\n",
        "      police-=1\n",
        "    else:\n",
        "      unsolved+=1\n",
        "  else:\n",
        "    police+=e\n",
        "print(unsolved)"
      ]
    },
    {
      "cell_type": "code",
      "execution_count": null,
      "metadata": {
        "colab": {
          "base_uri": "https://localhost:8080/"
        },
        "id": "mrNqm5FA-NL0",
        "outputId": "af546ad9-60b8-4832-c39e-60410edbf79d"
      },
      "outputs": [
        {
          "name": "stdout",
          "output_type": "stream",
          "text": [
            "3\n"
          ]
        }
      ],
      "source": [
        "l=[3,5,2,6,1]\n",
        "m,count=0,0\n",
        "for i in l:\n",
        "  if i>m:\n",
        "    m=i\n",
        "    count+=1\n",
        "print(count)"
      ]
    },
    {
      "cell_type": "code",
      "execution_count": null,
      "metadata": {
        "colab": {
          "base_uri": "https://localhost:8080/"
        },
        "id": "Dywf-qecEGzF",
        "outputId": "af546ad9-60b8-4832-c39e-60410edbf79d"
      },
      "outputs": [
        {
          "name": "stdout",
          "output_type": "stream",
          "text": [
            "3\n"
          ]
        }
      ],
      "source": [
        "l=[3,5,2,6,1]\n",
        "m,count=0,0\n",
        "for i in l:\n",
        "  if i>m:\n",
        "    m=i\n",
        "    count+=1\n",
        "print(count)"
      ]
    },
    {
      "cell_type": "code",
      "execution_count": null,
      "metadata": {
        "colab": {
          "base_uri": "https://localhost:8080/"
        },
        "id": "mi1wRPJhCnQw",
        "outputId": "0b126a3d-4835-4088-d404-6177c9c156be"
      },
      "outputs": [
        {
          "name": "stdout",
          "output_type": "stream",
          "text": [
            "5\n"
          ]
        }
      ],
      "source": [
        "l=[3,5,2,6,1]\n",
        "m1=0\n",
        "for i in l:\n",
        "  if i>m1:\n",
        "    m2=m1\n",
        "    m1=i\n",
        "  elif i>m2 and i!=m1:\n",
        "    m2=i\n",
        "print(m2)"
      ]
    },
    {
      "cell_type": "markdown",
      "metadata": {
        "id": "Hl31DPNv4NV4"
      },
      "source": []
    },
    {
      "cell_type": "code",
      "execution_count": null,
      "metadata": {
        "colab": {
          "base_uri": "https://localhost:8080/"
        },
        "id": "hX0fmlyfPS7O",
        "outputId": "e1a4351e-c484-44ad-f1b2-1b1417c9bd52"
      },
      "outputs": [
        {
          "name": "stdout",
          "output_type": "stream",
          "text": [
            "enter the num:5\n",
            "1\n",
            "3\n",
            "0\n",
            "4\n",
            "1\n"
          ]
        }
      ],
      "source": [
        "n=int(input(\"enter the num:\"))\n",
        "x=0\n",
        "for i in range(1,n+1):\n",
        "  x=x^i\n",
        "  print(x)"
      ]
    },
    {
      "cell_type": "code",
      "execution_count": null,
      "metadata": {
        "colab": {
          "base_uri": "https://localhost:8080/"
        },
        "id": "bQcUmiVmTtLH",
        "outputId": "4c70fabf-2d3f-4f5b-ccd4-1e47b1ab618c"
      },
      "outputs": [
        {
          "name": "stdout",
          "output_type": "stream",
          "text": [
            "enter the num:4\n",
            "4\n"
          ]
        }
      ],
      "source": [
        "n=int(input(\"enter the num:\"))\n",
        "x=0\n",
        "for i in range(1,n+1):\n",
        "  x=x^i\n",
        "print(x)"
      ]
    },
    {
      "cell_type": "code",
      "execution_count": null,
      "metadata": {
        "colab": {
          "base_uri": "https://localhost:8080/"
        },
        "id": "VykoN6MGX0W3",
        "outputId": "9159f42a-8b0b-44b5-d9c5-d5decdc087ae"
      },
      "outputs": [
        {
          "name": "stdout",
          "output_type": "stream",
          "text": [
            "30\n"
          ]
        }
      ],
      "source": [
        "def fun(a,b):\n",
        "    print(a+b)\n",
        "x=10\n",
        "y=20\n",
        "fun(x,y)"
      ]
    },
    {
      "cell_type": "code",
      "execution_count": null,
      "metadata": {
        "colab": {
          "base_uri": "https://localhost:8080/"
        },
        "id": "69Bu84raYaBS",
        "outputId": "569db019-a460-464f-b250-c0793d7de270"
      },
      "outputs": [
        {
          "name": "stdout",
          "output_type": "stream",
          "text": [
            "30\n"
          ]
        }
      ],
      "source": [
        "def fun(a,b):\n",
        "    return a+b\n",
        "x=10\n",
        "y=20\n",
        "print(fun(x,y))"
      ]
    },
    {
      "cell_type": "code",
      "execution_count": null,
      "metadata": {
        "colab": {
          "base_uri": "https://localhost:8080/"
        },
        "id": "ICAaSJI-SvSU",
        "outputId": "4d7aad24-4021-4d9f-b666-197d0a2d2b25"
      },
      "outputs": [
        {
          "name": "stdout",
          "output_type": "stream",
          "text": [
            "enter the num:4\n",
            "4\n"
          ]
        }
      ],
      "source": [
        "n=int(input(\"enter the num:\"))\n",
        "if n%4==1:\n",
        "  print(1)\n",
        "if n%4==2:\n",
        "  print(n+1)\n",
        "if n%4==3:\n",
        "  print(0)\n",
        "if n%4==0:\n",
        "  print(n)"
      ]
    },
    {
      "cell_type": "code",
      "execution_count": null,
      "metadata": {
        "colab": {
          "base_uri": "https://localhost:8080/"
        },
        "id": "MWJ5Q9x7asCH",
        "outputId": "c9164724-5fbf-4e35-e283-b12046b1f96d"
      },
      "outputs": [
        {
          "name": "stdout",
          "output_type": "stream",
          "text": [
            "enter the lower limit:3\n",
            "enter the upper limit:6\n",
            "4\n"
          ]
        }
      ],
      "source": [
        "def find_xor(n):\n",
        "  if n%4==1:\n",
        "    return 1\n",
        "  if n%4==2:\n",
        "    return n+1\n",
        "  if n%4==3:\n",
        "    return 0\n",
        "  if n%4==0:\n",
        "    return n\n",
        "l=int(input(\"enter the lower limit:\"))\n",
        "r=int(input(\"enter the upper limit:\"))\n",
        "a=find_xor(r)\n",
        "b=find_xor(l-1)\n",
        "print(b^a)\n"
      ]
    },
    {
      "cell_type": "code",
      "execution_count": null,
      "metadata": {
        "colab": {
          "base_uri": "https://localhost:8080/"
        },
        "id": "cERSWrsadgbs",
        "outputId": "2c1dff01-850e-43b7-911d-5dc803680e68"
      },
      "outputs": [
        {
          "name": "stdout",
          "output_type": "stream",
          "text": [
            "enter the num:3\n",
            "2\n"
          ]
        }
      ],
      "source": [
        "n=int(input(\"enter the num:\"))\n",
        "count=0\n",
        "while n:\n",
        "  n=n&(n-1)\n",
        "  count+=1\n",
        "print(count)"
      ]
    },
    {
      "cell_type": "code",
      "execution_count": null,
      "metadata": {
        "id": "VqiJVOV9uXK9"
      },
      "outputs": [],
      "source": [
        "l=[5,8,10,12,4,3,7]\n",
        "count=0\n",
        "for i in l:\n",
        "  i!=0\n"
      ]
    },
    {
      "cell_type": "code",
      "execution_count": null,
      "metadata": {
        "colab": {
          "base_uri": "https://localhost:8080/"
        },
        "id": "b0341dce",
        "outputId": "c7480ca6-9658-4a64-c536-f13e74cccb75"
      },
      "outputs": [
        {
          "name": "stdout",
          "output_type": "stream",
          "text": [
            "3\n"
          ]
        }
      ],
      "source": [
        "def is_prime(n):\n",
        "  if n<= 1:\n",
        "    return False\n",
        "  for i in range(2, int(n**0.5) + 1):\n",
        "    if n % i == 0:\n",
        "      return False\n",
        "  return True\n",
        "\n",
        "l= [5, 8, 10, 12, 4, 3, 7]\n",
        "count = 0\n",
        "for i in l:\n",
        "  if is_prime(i):\n",
        "    count += 1\n",
        "\n",
        "print(count)"
      ]
    },
    {
      "cell_type": "code",
      "execution_count": null,
      "metadata": {
        "colab": {
          "base_uri": "https://localhost:8080/"
        },
        "id": "VsPS5xrKyP5d",
        "outputId": "0f8ae3d2-d6ac-4747-d1b6-856be7cac4c6"
      },
      "outputs": [
        {
          "name": "stdout",
          "output_type": "stream",
          "text": [
            "5\n",
            "1\n"
          ]
        }
      ],
      "source": [
        "def trailingZeroes(n):\n",
        "        if n<5:\n",
        "            return 0\n",
        "        sum=0\n",
        "        while n>=5:\n",
        "            n=n//5\n",
        "            sum+=n\n",
        "        return sum\n",
        "n=int(input())\n",
        "print(trailingZeroes(n))"
      ]
    },
    {
      "cell_type": "code",
      "execution_count": null,
      "metadata": {
        "colab": {
          "base_uri": "https://localhost:8080/"
        },
        "id": "caxmq2EcCBFg",
        "outputId": "7294a92a-115b-413f-8f18-e9abd6fcaea9"
      },
      "outputs": [
        {
          "name": "stdout",
          "output_type": "stream",
          "text": [
            "10\n",
            "1\n",
            "1\n",
            "2\n",
            "2\n",
            "3\n",
            "4\n",
            "4\n",
            "5\n",
            "5\n",
            "7\n",
            "6\n",
            "8\n",
            "7\n",
            "10\n",
            "8\n",
            "11\n",
            "9\n",
            "14\n",
            "1000\n",
            "1666\n"
          ]
        }
      ],
      "source": [
        "n=int(input())\n",
        "for _ in range(n):\n",
        "  k=int(input())\n",
        "  i,count=1,0\n",
        "  while 1:\n",
        "    if i%3!=0 and i%10!=3:\n",
        "      count+=1\n",
        "      if count==k:\n",
        "        print(i)\n",
        "        break\n",
        "    i+=1\n"
      ]
    },
    {
      "cell_type": "code",
      "execution_count": null,
      "metadata": {
        "colab": {
          "base_uri": "https://localhost:8080/"
        },
        "id": "HGl-1bSHRZMF",
        "outputId": "70abfb8c-b12a-4631-f15c-fd1a802b0789"
      },
      "outputs": [
        {
          "name": "stdout",
          "output_type": "stream",
          "text": [
            "{1, 2, 3}\n",
            "{1, 2, 3, 4, 5}\n"
          ]
        }
      ],
      "source": [
        "a={1,2,3}\n",
        "print(a)\n",
        "b={4,2,5}\n",
        "a.update(b)\n",
        "print(a)"
      ]
    },
    {
      "cell_type": "code",
      "execution_count": null,
      "metadata": {
        "colab": {
          "base_uri": "https://localhost:8080/"
        },
        "id": "yfVBp39NSi9p",
        "outputId": "510933ae-7ff5-493d-8b22-71473ef330f9"
      },
      "outputs": [
        {
          "name": "stdout",
          "output_type": "stream",
          "text": [
            "{1, 2, 3, 4, 5}\n"
          ]
        }
      ],
      "source": [
        "s={1,4,2,5}\n",
        "s.add(3)\n",
        "print(s)"
      ]
    },
    {
      "cell_type": "code",
      "execution_count": null,
      "metadata": {
        "colab": {
          "base_uri": "https://localhost:8080/"
        },
        "id": "tMtM_ZZJZ-hw",
        "outputId": "9f529744-ff56-42d8-d5b6-c1ec1ee1b79f"
      },
      "outputs": [
        {
          "name": "stdout",
          "output_type": "stream",
          "text": [
            "{1, 4}\n",
            "{1, 4}\n"
          ]
        }
      ],
      "source": [
        "a={1,2,3,4}\n",
        "b={2,3,5,6}\n",
        "print(a.difference(b))\n",
        "print(a-b)\n"
      ]
    },
    {
      "cell_type": "code",
      "execution_count": null,
      "metadata": {
        "colab": {
          "base_uri": "https://localhost:8080/"
        },
        "id": "rCEsQffEd3bU",
        "outputId": "ee3a3fca-2ed6-4afd-f08c-b0939b7b0fae"
      },
      "outputs": [
        {
          "name": "stdout",
          "output_type": "stream",
          "text": [
            "enter the num of elements:3\n",
            "enter the key:2\n",
            "enter the value:1\n",
            "enter the key:5\n",
            "enter the value:3\n",
            "enter the key:6\n",
            "enter the value:4\n",
            "{'2': '1', '5': '3', '6': '4'}\n"
          ]
        }
      ],
      "source": [
        "d={}\n",
        "n=int(input(\"enter the num of elements:\"))\n",
        "for i in range(n):\n",
        "  key=input(\"enter the key:\")\n",
        "  value=input(\"enter the value:\")\n",
        "  d[key]=value\n",
        "print(d)"
      ]
    },
    {
      "cell_type": "code",
      "execution_count": null,
      "metadata": {
        "colab": {
          "base_uri": "https://localhost:8080/"
        },
        "id": "YmJNx0Sjlbvx",
        "outputId": "bad91c50-6757-459f-bea8-feecbbecdfc5"
      },
      "outputs": [
        {
          "name": "stdout",
          "output_type": "stream",
          "text": [
            "123\n",
            "None\n",
            "{1: 'hi', 'a': 123, 100: 32.4, 'b': None}\n",
            "200\n",
            "{1: 'hi', 'a': 123, 100: 32.4, 'b': None, 'c': 200}\n"
          ]
        }
      ],
      "source": [
        "d={1:'hi','a':123,100:32.4}\n",
        "print(d.setdefault('a'))\n",
        "print(d.setdefault('b'))\n",
        "print(d)\n",
        "print(d.setdefault('c',200))\n",
        "print(d)"
      ]
    },
    {
      "cell_type": "code",
      "execution_count": null,
      "metadata": {
        "colab": {
          "base_uri": "https://localhost:8080/"
        },
        "id": "jPviF0n73p7R",
        "outputId": "c96c5f28-e051-447e-b2b1-7cbe33ddb173"
      },
      "outputs": [
        {
          "name": "stdout",
          "output_type": "stream",
          "text": [
            "no of element2\n",
            "enter key for dict:1\n",
            "enter value for dict:2\n",
            "enter key for dict:3\n",
            "enter value for dict:4\n",
            "5\n",
            "key is not presesnt in dict\n"
          ]
        }
      ],
      "source": [
        "import operator\n",
        "d={}\n",
        "n=int(input(\"no of element\"))\n",
        "for i in range(n):\n",
        "  k=input(\"enter key for dict:\")\n",
        "  v=input(\"enter value for dict:\")\n",
        "  d[k]=v\n",
        "key=input()\n",
        "if key in d:\n",
        "  print(\"key is present in dict\")\n",
        "else:\n",
        "  print(\"key is not presesnt in dict\")"
      ]
    },
    {
      "cell_type": "markdown",
      "metadata": {
        "id": "Vm96aCTpBtdJ"
      },
      "source": []
    },
    {
      "cell_type": "code",
      "execution_count": null,
      "metadata": {
        "colab": {
          "base_uri": "https://localhost:8080/"
        },
        "id": "aOo4Ztk36VUn",
        "outputId": "ced3d1dd-ff26-44fb-949a-1f6df4c7a458"
      },
      "outputs": [
        {
          "name": "stdout",
          "output_type": "stream",
          "text": [
            "enter the num:3\n",
            "{1: 1, 2: 4, 3: 9}\n"
          ]
        }
      ],
      "source": [
        "d={}\n",
        "n=int(input(\"enter the num:\"))\n",
        "for i in range(1,n+1):\n",
        "  d[i]=i*i\n",
        "print(d)"
      ]
    },
    {
      "cell_type": "code",
      "execution_count": null,
      "metadata": {
        "colab": {
          "base_uri": "https://localhost:8080/"
        },
        "id": "P1bDdU7t8DJA",
        "outputId": "17dad0c4-8c14-4d2b-ca8e-6843ed6b19d4"
      },
      "outputs": [
        {
          "name": "stdout",
          "output_type": "stream",
          "text": [
            "[1, 2, 3, 4, 5, 6, 7, 8, 9]\n"
          ]
        }
      ],
      "source": [
        "l1=[1,3,4,5,7,8,9]\n",
        "l2=[2,6]\n",
        "sum=l1+l2\n",
        "sum.sort()\n",
        "print(sum)"
      ]
    },
    {
      "cell_type": "code",
      "execution_count": null,
      "metadata": {
        "colab": {
          "base_uri": "https://localhost:8080/"
        },
        "id": "3QYpQu7j9cKN",
        "outputId": "12f363ef-0665-4b73-cfbc-6220fd56b9a4"
      },
      "outputs": [
        {
          "name": "stdout",
          "output_type": "stream",
          "text": [
            "[1, 2, 3, 4, 5, 6, 7, 8, 9]\n"
          ]
        }
      ],
      "source": [
        "l1=[1,3,4,5,7,8,9]\n",
        "l2=[2,6]\n",
        "i,j=0,0\n",
        "res=[]\n",
        "while i<len(l1) and j<len(l2):\n",
        "    if l1[i]<l2[j]:\n",
        "      res.append(l1[i])\n",
        "      i+=1\n",
        "    else:\n",
        "      res.append(l2[j])\n",
        "      j+=1\n",
        "while i<len(l1):\n",
        "  res.append(l1[i])\n",
        "  i+=1\n",
        "while j<len(l2):\n",
        "  res.append(l2[j])\n",
        "  j+=1\n",
        "print(res)\n"
      ]
    },
    {
      "cell_type": "code",
      "execution_count": null,
      "metadata": {
        "colab": {
          "base_uri": "https://localhost:8080/"
        },
        "id": "a0uS8B9cSgsF",
        "outputId": "1d69bb6c-78d3-4f54-96d3-eb414739539a"
      },
      "outputs": [
        {
          "name": "stdout",
          "output_type": "stream",
          "text": [
            "[1, 2, 3, 4]\n"
          ]
        }
      ],
      "source": [
        "l=[1,2,2,3,3,3,4,4,4]\n",
        "res=[]\n",
        "for i in l:\n",
        "  if not res or i!=res[-1]:\n",
        "    res.append(i)\n",
        "print(res)"
      ]
    },
    {
      "cell_type": "code",
      "execution_count": null,
      "metadata": {
        "colab": {
          "base_uri": "https://localhost:8080/"
        },
        "id": "AQE0BI7xYycQ",
        "outputId": "607dd668-26b6-4691-c1cf-4ef1a6d4018f"
      },
      "outputs": [
        {
          "name": "stdout",
          "output_type": "stream",
          "text": [
            "[1, 6]\n",
            "[9, 5]\n"
          ]
        }
      ],
      "source": [
        "l=[1,6,9,5]\n",
        "for i in range(0,len(l)-1,2):\n",
        "   print([l[i],l[i+1]])"
      ]
    },
    {
      "cell_type": "code",
      "execution_count": null,
      "metadata": {
        "colab": {
          "base_uri": "https://localhost:8080/"
        },
        "id": "8oRCfZidbNR2",
        "outputId": "b6983001-b3d4-4099-fa05-a48488af00ed"
      },
      "outputs": [
        {
          "name": "stdout",
          "output_type": "stream",
          "text": [
            "1 6\n",
            "1 9\n",
            "1 5\n",
            "6 9\n",
            "6 5\n",
            "9 5\n"
          ]
        }
      ],
      "source": [
        "l=[1,6,9,5]\n",
        "for i in range(len(l)):\n",
        "  for j in range(i+1,len(l)):\n",
        "    print(l[i],l[j])"
      ]
    },
    {
      "cell_type": "code",
      "execution_count": null,
      "metadata": {
        "colab": {
          "base_uri": "https://localhost:8080/"
        },
        "id": "OSNxO7fWaU4p",
        "outputId": "43e497c0-1ef3-4e6e-f8fb-db59341abb6d"
      },
      "outputs": [
        {
          "name": "stdout",
          "output_type": "stream",
          "text": [
            "6\n",
            "9\n"
          ]
        }
      ],
      "source": [
        "l=[1,6,9,5]\n",
        "for i in range(0,len(l)-1,2):\n",
        "  if l[i]>l[i+1]:\n",
        "     print(l[i])\n",
        "  else:\n",
        "    print(l[i+1])\n"
      ]
    },
    {
      "cell_type": "code",
      "execution_count": null,
      "metadata": {
        "colab": {
          "base_uri": "https://localhost:8080/"
        },
        "id": "bmg18rnib1Z0",
        "outputId": "8074da62-92bf-4d51-8d3e-ab3bf5f1ff22"
      },
      "outputs": [
        {
          "name": "stdout",
          "output_type": "stream",
          "text": [
            "15\n"
          ]
        }
      ],
      "source": [
        "l=[1,6,9,5]\n",
        "m=0\n",
        "for i in range(len(l)):\n",
        "  for j in range(i+1,len(l)):\n",
        "    s=l[i]+l[j]\n",
        "    m=max(m,s)\n",
        "print(m)"
      ]
    },
    {
      "cell_type": "code",
      "execution_count": null,
      "metadata": {
        "colab": {
          "base_uri": "https://localhost:8080/"
        },
        "id": "ku3C2-RgCzAi",
        "outputId": "7da89b2b-d527-4ee7-f55c-6ae5c8a05e9f"
      },
      "outputs": [
        {
          "name": "stdout",
          "output_type": "stream",
          "text": [
            "3\n",
            "enter the list1,2,1\n",
            "True\n"
          ]
        }
      ],
      "source": [
        "nums = int(input())\n",
        "l_str = input(\"enter the list\")\n",
        "l = list(map(int, l_str.split(',')))\n",
        "\n",
        "duplicates_found = False\n",
        "for i in range(len(l)):\n",
        "    for j in range(i + 1, len(l)):\n",
        "        if l[i] == l[j]:\n",
        "            duplicates_found = True\n",
        "            break\n",
        "    if duplicates_found:\n",
        "        break\n",
        "\n",
        "if duplicates_found:\n",
        "    print(\"True\")\n",
        "else:\n",
        "    print(\"False\")"
      ]
    },
    {
      "cell_type": "code",
      "execution_count": null,
      "metadata": {
        "colab": {
          "base_uri": "https://localhost:8080/"
        },
        "id": "hAWFQyLyNZs5",
        "outputId": "34326bae-cf7e-4fed-97b8-c11651caed64"
      },
      "outputs": [
        {
          "name": "stdout",
          "output_type": "stream",
          "text": [
            "5\n",
            "1 2 1 3 2\n",
            "17 21 20 19 18\n",
            "[1, 2, 1]\n",
            "2\n"
          ]
        }
      ],
      "source": [
        "n=int(input())\n",
        "vote=list(map(int,input().split()))\n",
        "age=list(map(int,input().split()))\n",
        "c=[0]*max(vote)\n",
        "for i in range(n):\n",
        "  if age[i]>=18:\n",
        "    c[vote[i]-1]+=1\n",
        "print(c)\n",
        "print(max(c))"
      ]
    },
    {
      "cell_type": "code",
      "execution_count": null,
      "metadata": {
        "colab": {
          "base_uri": "https://localhost:8080/"
        },
        "id": "qGKEzoenVKlN",
        "outputId": "675a5dfd-4130-4a64-b57f-9b33f3f1fb4e"
      },
      "outputs": [
        {
          "name": "stdout",
          "output_type": "stream",
          "text": [
            "5\n",
            "1 2 1 3 2\n",
            "17 21 20 19 18\n",
            "2\n"
          ]
        }
      ],
      "source": [
        "n=int(input())\n",
        "vote=list(map(int,input().split()))\n",
        "age=list(map(int,input().split()))\n",
        "c=[0]*max(vote)\n",
        "for i in range(n):\n",
        "  if age[i]>=18:\n",
        "    c[vote[i]-1]+=1\n",
        "m=max(c)\n",
        "print(c.index(m)+1)\n"
      ]
    },
    {
      "cell_type": "code",
      "execution_count": null,
      "metadata": {
        "colab": {
          "base_uri": "https://localhost:8080/"
        },
        "id": "UV-Z-xBbW0_X",
        "outputId": "01b4bbe6-dc2b-4b41-c761-ba0c9d36c41d"
      },
      "outputs": [
        {
          "name": "stdout",
          "output_type": "stream",
          "text": [
            "5\n",
            "1 2 1 3 2\n",
            "18 21 20 19 18\n",
            "-1\n"
          ]
        }
      ],
      "source": [
        "n=int(input())\n",
        "vote=list(map(int,input().split()))\n",
        "age=list(map(int,input().split()))\n",
        "c=[0]*max(vote)\n",
        "for i in range(n):\n",
        "  if age[i]>=18:\n",
        "    c[vote[i]-1]+=1\n",
        "temp=sorted(c,reverse=True)\n",
        "if temp[0]==temp[1]:\n",
        "  print(-1)\n",
        "else:\n",
        "  print(c.index(temp[0])+1)"
      ]
    },
    {
      "cell_type": "code",
      "execution_count": null,
      "metadata": {
        "colab": {
          "base_uri": "https://localhost:8080/"
        },
        "id": "spbf2zoMXmNB",
        "outputId": "95b923b0-38ed-4859-a3a9-18cbcabcf3f1"
      },
      "outputs": [
        {
          "name": "stdout",
          "output_type": "stream",
          "text": [
            "5\n",
            "1 2 1 3 2\n",
            "22 21 20 19 18\n",
            "-1\n"
          ]
        }
      ],
      "source": [
        "n=int(input())\n",
        "vote=list(map(int,input().split()))\n",
        "age=list(map(int,input().split()))\n",
        "c=[0]*max(vote)\n",
        "for i in range(n):\n",
        "  if age[i]>=18:\n",
        "    c[vote[i]-1]+=1\n",
        "temp=sorted(c,reverse=True)\n",
        "if temp[0]==temp[1]:\n",
        "  print(-1)\n",
        "else:\n",
        "  print(c.index(temp[0])+1)\n"
      ]
    },
    {
      "cell_type": "code",
      "execution_count": null,
      "metadata": {
        "colab": {
          "base_uri": "https://localhost:8080/"
        },
        "id": "mK3L0tcTYP1h",
        "outputId": "0880309c-a49e-407a-a11b-710558393e69"
      },
      "outputs": [
        {
          "name": "stdout",
          "output_type": "stream",
          "text": [
            "5\n",
            "1 2 1 3 2\n",
            "17 21 20 19 18\n",
            "2\n"
          ]
        }
      ],
      "source": [
        "n=int(input())\n",
        "vote=list(map(int,input().split()))\n",
        "age=list(map(int,input().split()))\n",
        "c=[0]*max(vote)\n",
        "for i in range(n):\n",
        "  if age[i]>=18:\n",
        "    c[vote[i]-1]+=1\n",
        "temp=sorted(c,reverse=True)\n",
        "if temp[0]==temp[1]:\n",
        "  print(-1)\n",
        "else:\n",
        "  print(c.index(temp[0])+1)"
      ]
    },
    {
      "cell_type": "code",
      "execution_count": null,
      "metadata": {
        "colab": {
          "base_uri": "https://localhost:8080/"
        },
        "id": "0p-fGyKRb6My",
        "outputId": "c7a22551-3cee-4201-9b68-08a49f722f2f"
      },
      "outputs": [
        {
          "name": "stdout",
          "output_type": "stream",
          "text": [
            "3\n",
            "1 2 1\n",
            "not sorted\n"
          ]
        }
      ],
      "source": [
        "n=int(input())\n",
        "l=list(map(int,input().split()))\n",
        "if l.sort():\n",
        "    print(\"sorted list\")\n",
        "else:\n",
        "  print(\"not sorted\")\n"
      ]
    },
    {
      "cell_type": "code",
      "execution_count": null,
      "metadata": {
        "colab": {
          "base_uri": "https://localhost:8080/"
        },
        "id": "eG7mcqQGdGZx",
        "outputId": "62ad01d1-3ebd-4bee-e92c-d5e98b74fd68"
      },
      "outputs": [
        {
          "name": "stdout",
          "output_type": "stream",
          "text": [
            "True\n"
          ]
        }
      ],
      "source": [
        "l=[2,3,4,5,7]\n",
        "for i in range(len(l)-1):\n",
        "  if l[i]>=l[i+1]:\n",
        "    print(False)\n",
        "    break\n",
        "else:\n",
        "    print(True)"
      ]
    },
    {
      "cell_type": "code",
      "execution_count": null,
      "metadata": {
        "colab": {
          "base_uri": "https://localhost:8080/"
        },
        "id": "yGJyXMYxvTEw",
        "outputId": "c1cf6845-9b98-4767-8c25-7011dc0e1bee"
      },
      "outputs": [
        {
          "name": "stdout",
          "output_type": "stream",
          "text": [
            "21\n"
          ]
        }
      ],
      "source": [
        "books=[2,3,4,1,2,6,7,3,5,1,6,3,2,4]\n",
        "k=4\n",
        "sum=0\n",
        "for i in range(k):\n",
        "  sum+=books[i]\n",
        "m=sum\n",
        "for i in range(1,len(books)-k):\n",
        "  sum=sum-books[i-1]+books[i+k]\n",
        "  m=max(m,sum)\n",
        "print(m)"
      ]
    },
    {
      "cell_type": "code",
      "execution_count": null,
      "metadata": {
        "colab": {
          "base_uri": "https://localhost:8080/"
        },
        "id": "e0d53ccc",
        "outputId": "96c18664-c9d3-4880-caa9-235f10662360"
      },
      "outputs": [
        {
          "name": "stdout",
          "output_type": "stream",
          "text": [
            "Sum using a for loop: 0\n"
          ]
        }
      ],
      "source": [
        "books=[2,3,4,1,2,6,7,3,5,1,6,3,2,4]\n",
        "k=4\n",
        "\n",
        "s_for_loop = 0\n",
        "for i in range(k+i,):\n",
        "  s_for_loop += books[i]\n",
        "\n",
        "print(f\"Sum using a for loop: {s_for_loop}\")"
      ]
    },
    {
      "cell_type": "code",
      "execution_count": null,
      "metadata": {
        "colab": {
          "base_uri": "https://localhost:8080/"
        },
        "id": "FYoIrP2txOcC",
        "outputId": "30ae5055-d06d-4abd-c08f-e8cf1062a095"
      },
      "outputs": [
        {
          "name": "stdout",
          "output_type": "stream",
          "text": [
            "21\n"
          ]
        }
      ],
      "source": [
        "books=[2,3,4,1,2,6,7,3,5,1,6,3,2,4]\n",
        "k=4\n",
        "sum=0\n",
        "for i in range(k):\n",
        "  sum+=books[i]\n",
        "m=sum\n",
        "for i in range(1,len(books)-k+1):\n",
        "  sum=sum-books[i-1]+books[i+k-1]\n",
        "  m=max(m,sum)\n",
        "print(m)"
      ]
    },
    {
      "cell_type": "code",
      "execution_count": null,
      "metadata": {
        "colab": {
          "base_uri": "https://localhost:8080/"
        },
        "id": "eN79bnw8AOs-",
        "outputId": "1b29e55f-c76b-44b0-e226-1d48430ed78d"
      },
      "outputs": [
        {
          "name": "stdout",
          "output_type": "stream",
          "text": [
            "\n",
            "[][2][2, 3][2, 3, 4][2, 3, 4, 5][2, 3, 4, 5, 2]\n",
            "[][3][3, 4][3, 4, 5][3, 4, 5, 2]\n",
            "[][4][4, 5][4, 5, 2]\n",
            "[][5][5, 2]\n",
            "[][2]\n",
            "[]"
          ]
        }
      ],
      "source": [
        "l=[2,3,4,5,2,1]\n",
        "for i in range(len(l)):\n",
        "  print(\"\")\n",
        "  for j in range(i,len(l)):\n",
        "    print(l[i:j],end=\"\")\n",
        "\n"
      ]
    },
    {
      "cell_type": "code",
      "execution_count": null,
      "metadata": {
        "id": "cf8e6bb8"
      },
      "outputs": [],
      "source": [
        "def add_digits(num):\n",
        "\n",
        "  while num >= 10:\n",
        "    digit_sum = 0\n",
        "    for digit in str(num):\n",
        "      digit_sum += int(digit)\n",
        "    num = digit_sum\n",
        "  return num\n",
        "\n"
      ]
    },
    {
      "cell_type": "code",
      "execution_count": null,
      "metadata": {
        "id": "385d7f9b"
      },
      "outputs": [],
      "source": [
        "from typing import List\n",
        "\n",
        "class Solution:\n",
        "    def searchRange(self, nums: List[int], target: int) -> List[int]:\n",
        "        result = [-1, -1]\n",
        "\n",
        "        s, e = 0, len(nums) - 1\n",
        "        while s <= e:\n",
        "            m = (s + e) // 2\n",
        "            if nums[m] == target:\n",
        "                result[0] = m\n",
        "                e = m - 1\n",
        "            elif target < nums[m]:\n",
        "                e = m - 1\n",
        "            else:\n",
        "                s = m + 1\n",
        "\n",
        "        s, e = 0, len(nums) - 1\n",
        "        while s <= e:\n",
        "            m = (s + e) // 2\n",
        "            if nums[m] == target:\n",
        "                result[1] = m\n",
        "                s = m + 1\n",
        "            elif target < nums[m]:\n",
        "                e = m - 1\n",
        "            else:\n",
        "                s = m + 1\n",
        "\n",
        "        return result"
      ]
    },
    {
      "cell_type": "code",
      "execution_count": null,
      "metadata": {
        "id": "2e0bb32d"
      },
      "outputs": [],
      "source": [
        "def minOperations(nums: list[int], k: int) -> int:\n",
        "\n",
        "    current_sum = sum(nums)\n",
        "    remainder = current_sum % k\n",
        "\n",
        "    if remainder == 0:\n",
        "        return 0\n",
        "    else:\n",
        "\n",
        "        return remainder\n",
        "\n"
      ]
    },
    {
      "cell_type": "code",
      "execution_count": null,
      "metadata": {
        "colab": {
          "base_uri": "https://localhost:8080/"
        },
        "id": "DoneZ7qgP9da",
        "outputId": "5ea9f6a7-0198-4cab-81eb-16ad4da17f0b"
      },
      "outputs": [
        {
          "name": "stdout",
          "output_type": "stream",
          "text": [
            "5\n"
          ]
        }
      ],
      "source": [
        "arr=[2,4,5,3,2,4,2,1,8,7,9]\n",
        "k=13\n",
        "l,r,sum,m=0,0,0,0\n",
        "while r<len(arr):\n",
        "  sum+=arr[r]\n",
        "  while sum>k:\n",
        "    sum=sum-arr[l]\n",
        "    l=l+1\n",
        "  m=max(m,r-l+1)\n",
        "  r+=1\n",
        "print(m)"
      ]
    },
    {
      "cell_type": "code",
      "execution_count": null,
      "metadata": {
        "colab": {
          "base_uri": "https://localhost:8080/"
        },
        "id": "sb0KeUPFbCne",
        "outputId": "ad70b5c1-b6a0-4243-dc28-4b69ab268f08"
      },
      "outputs": [
        {
          "name": "stdout",
          "output_type": "stream",
          "text": [
            "5\n"
          ]
        }
      ],
      "source": [
        "arr=[2,4,5,3,2,4,2,1,8,7,9]\n",
        "k=13\n",
        "l,r,sum,m=0,0,0,0\n",
        "while r<len(arr):\n",
        "  sum+=arr[r]\n",
        "  while sum>k:\n",
        "    sum=sum-arr[l]\n",
        "    l=l+1\n",
        "  m=max(m,r-l+1)\n",
        "  r+=1\n",
        "print(m)"
      ]
    },
    {
      "cell_type": "code",
      "execution_count": null,
      "metadata": {
        "colab": {
          "base_uri": "https://localhost:8080/"
        },
        "id": "NkedEY1UV5yl",
        "outputId": "a32d8240-c239-487e-8364-538db9ed3b6e"
      },
      "outputs": [
        {
          "name": "stdout",
          "output_type": "stream",
          "text": [
            "3\n"
          ]
        }
      ],
      "source": [
        "l=[1,3,2,2,5,2,3,7]\n",
        "m1,m2=0,0\n",
        "e1,e2=0,0\n",
        "d={}\n",
        "for i in l:\n",
        "  if i not in d:\n",
        "    d[i]=1\n",
        "  else:\n",
        "    d[i]+=1\n",
        "for k in d:\n",
        "  if d[k]>m1:\n",
        "    m2=m1\n",
        "    e2=e1\n",
        "    m1=d[k]\n",
        "    e1=k\n",
        "  elif d[k]>m2 and d[k]!=m1:\n",
        "    m2=d[k]\n",
        "    e2=k\n",
        "print(e2)\n",
        "\n"
      ]
    },
    {
      "cell_type": "code",
      "execution_count": null,
      "metadata": {
        "colab": {
          "base_uri": "https://localhost:8080/"
        },
        "id": "SHix6-gXYh_6",
        "outputId": "693f3990-cacf-4653-af89-bfeec5173242"
      },
      "outputs": [
        {
          "name": "stdout",
          "output_type": "stream",
          "text": [
            "2\n"
          ]
        }
      ],
      "source": [
        "l=[1,3,2,2,5,2,3,7]\n",
        "m1=0\n",
        "e1=0\n",
        "d={}\n",
        "for i in l:\n",
        "  if i not in d:\n",
        "    d[i]=1\n",
        "  else:\n",
        "    d[i]+=1\n",
        "for k in d:\n",
        "  if d[k]>m1:\n",
        "    m1=d[k]\n",
        "    e1=k\n",
        "print(e1)"
      ]
    },
    {
      "cell_type": "code",
      "execution_count": null,
      "metadata": {
        "colab": {
          "base_uri": "https://localhost:8080/"
        },
        "id": "gHup2-mUdudC",
        "outputId": "c8079292-8b5b-4ba0-d8a6-0748216800e8"
      },
      "outputs": [
        {
          "name": "stdout",
          "output_type": "stream",
          "text": [
            "5\n"
          ]
        }
      ],
      "source": [
        "l=[3,2,1,4,5,7,8,9]\n",
        "k=7\n",
        "for i in range (len(l)):\n",
        "  if l[i]==k:\n",
        "    print(i)\n",
        "    break\n",
        "else:\n",
        "  print(False)\n"
      ]
    },
    {
      "cell_type": "code",
      "execution_count": null,
      "metadata": {
        "colab": {
          "base_uri": "https://localhost:8080/"
        },
        "id": "8Hj4kdn5uu0U",
        "outputId": "2e5b5f37-2f92-4779-d02e-52c7fed0ee05"
      },
      "outputs": [
        {
          "name": "stdout",
          "output_type": "stream",
          "text": [
            "True 2 0\n"
          ]
        }
      ],
      "source": [
        "l=[[6,7,8,11],\n",
        "   [1,5,0,15],\n",
        "   [12,10,2,19]]\n",
        "k=12\n",
        "flag=0\n",
        "for i in range(len(l)):\n",
        "  for j in range(len(l[i])):\n",
        "    if l[i][j]==k:\n",
        "      print(True,i,j)\n",
        "      flag=1\n",
        "      break\n",
        "  if flag==1:\n",
        "    break\n",
        "if flag==0:\n",
        "  print(False)"
      ]
    },
    {
      "cell_type": "code",
      "execution_count": null,
      "metadata": {
        "colab": {
          "base_uri": "https://localhost:8080/"
        },
        "id": "6dJXUimd0iKw",
        "outputId": "e86e020a-bc69-48e5-c25f-1a63e68177f4"
      },
      "outputs": [
        {
          "name": "stdout",
          "output_type": "stream",
          "text": [
            "7\n"
          ]
        }
      ],
      "source": [
        "l=[1,3,4,5,7,8,9,11,15]\n",
        "k=11\n",
        "s,e=0,len(l)-1\n",
        "while s<=e:\n",
        "  m=(s+e)//2\n",
        "  if l[m]==k:\n",
        "    print(m)\n",
        "    break\n",
        "  elif l[m]<k:\n",
        "    s=m+1\n",
        "  else:\n",
        "    e=m-1\n",
        "else:\n",
        "  print(False)"
      ]
    },
    {
      "cell_type": "code",
      "execution_count": null,
      "metadata": {
        "colab": {
          "base_uri": "https://localhost:8080/"
        },
        "id": "-Dkcd7xc10Zf",
        "outputId": "0018f12c-81ba-4327-fc7d-61c2d7ee398d"
      },
      "outputs": [
        {
          "name": "stdout",
          "output_type": "stream",
          "text": [
            "False\n"
          ]
        }
      ],
      "source": [
        "l=[1,3,4,5,7,8,9,11,15]\n",
        "k=16\n",
        "s,e=0,len(l)-1\n",
        "while s<=e:\n",
        "  m=(s+e)//2\n",
        "  if l[m]==k:\n",
        "    print(m)\n",
        "    break\n",
        "  elif l[m]<k:\n",
        "    s=m+1\n",
        "  else:\n",
        "    e=m-1\n",
        "else:\n",
        "  print(False)"
      ]
    },
    {
      "cell_type": "code",
      "execution_count": null,
      "metadata": {
        "id": "DVU0Iwukq2XA"
      },
      "outputs": [],
      "source": [
        "def simple_calculator(num1,num2,operator):\n",
        "  num1=int(input(\"enter the num1:\"))\n",
        "  num2=int(input(\"enter the num2:\"))\n",
        "  operator=input(\"enter the operator(+,-,*,/)\")\n",
        "  if operator=='+':\n",
        "    return num1+num2\n",
        "  elif operator=='-':\n",
        "    return num1-num2\n",
        "  elif operator=='*':\n",
        "    return num1*num2\n",
        "  elif operator=='/':\n",
        "    if num2==0:\n",
        "      return \"error\"\n",
        "    else:\n",
        "      return num1/num2"
      ]
    },
    {
      "cell_type": "code",
      "execution_count": null,
      "metadata": {
        "id": "LZw4xy__WHcr"
      },
      "outputs": [],
      "source": [
        "def simple_calculator(num1,num2,operator):\n",
        "  num1=int(input(\"enter the num1:\"))\n",
        "  num2=int(input(\"enter the num2:\"))\n",
        "  operator=input(\"enter the operator(+,-,*,/)\")\n",
        "  if operator=='+':\n",
        "    return num1+num2\n",
        "  elif operator=='-':\n",
        "    return num1-num2\n",
        "  elif operator=='*':\n",
        "    return num1*num2\n",
        "  elif operator=='/':\n",
        "    if num2==0:\n",
        "      return \"error\"\n",
        "    else:\n",
        "      return num1/num2"
      ]
    },
    {
      "cell_type": "code",
      "execution_count": null,
      "metadata": {
        "id": "caa7fb05"
      },
      "outputs": [],
      "source": [
        "def is_valid(s: str) -> bool:\n",
        "    stack = []\n",
        "\n",
        "    for char in s:\n",
        "        if char == '(' or char == '{' or char == '[':\n",
        "            stack.append(char)\n",
        "        elif char == ')':\n",
        "            if not stack or stack.pop() != '(':\n",
        "                return False\n",
        "        elif char == '}':\n",
        "            if not stack or stack.pop() != '{':\n",
        "                return False\n",
        "        elif char == ']':\n",
        "            if not stack or stack.pop() != '[':\n",
        "                return False\n",
        "        else:\n",
        "\n",
        "            pass\n",
        "\n",
        "    return not stack"
      ]
    },
    {
      "cell_type": "code",
      "execution_count": null,
      "metadata": {
        "id": "wShJTVZepPLm"
      },
      "outputs": [],
      "source": [
        "s=str(input())\n",
        "stack=[]\n",
        "for c in s:\n",
        "  if c==stack[]"
      ]
    },
    {
      "cell_type": "code",
      "execution_count": null,
      "metadata": {
        "colab": {
          "base_uri": "https://localhost:8080/"
        },
        "id": "RXO8cMpuWijM",
        "outputId": "bb19b9e0-9f55-4e96-9058-d4a8b67f77f5"
      },
      "outputs": [
        {
          "name": "stdout",
          "output_type": "stream",
          "text": [
            "5 8\n"
          ]
        }
      ],
      "source": [
        "l=[3,2,4,2]\n",
        "n=len(l)\n",
        "x=3\n",
        "arr=[]\n",
        "for i in range(n):\n",
        "  arr.extend([i+1]*l[i])\n",
        "l,r=0,0\n",
        "for i in range(len(arr)):\n",
        "  if arr[i]==x:\n",
        "    l=i\n",
        "    break\n",
        "for i in range(len(arr)-1,-1,-1):\n",
        "  if arr[i]==x:\n",
        "    r=i\n",
        "    break\n",
        "print(l,r)"
      ]
    },
    {
      "cell_type": "code",
      "execution_count": null,
      "metadata": {
        "colab": {
          "base_uri": "https://localhost:8080/"
        },
        "id": "Ky8Hzyg1YZfs",
        "outputId": "589c7e42-1c1e-4a01-9a8f-27f6400133f4"
      },
      "outputs": [
        {
          "name": "stdout",
          "output_type": "stream",
          "text": [
            "abba\n",
            "\n"
          ]
        }
      ],
      "source": [
        "s=str(input())\n",
        "st=[]\n",
        "for c in s:\n",
        "  if st and st[-1]==c:\n",
        "    st.pop()\n",
        "  else:\n",
        "    st.append(c)\n",
        "print(\"\".join(st))\n",
        "\n"
      ]
    },
    {
      "cell_type": "code",
      "execution_count": null,
      "metadata": {
        "colab": {
          "base_uri": "https://localhost:8080/"
        },
        "id": "qZfh6IRwYhnF",
        "outputId": "5784ee67-19d6-4d10-f47c-23ec019d390b"
      },
      "outputs": [
        {
          "name": "stdout",
          "output_type": "stream",
          "text": [
            "af\n"
          ]
        }
      ],
      "source": [
        "s='abc**d*f'\n",
        "st=[]\n",
        "for c in s:\n",
        "  if st and c=='*':\n",
        "    st.pop()\n",
        "  else:\n",
        "    st.append(c)\n",
        "print(\"\".join(st))"
      ]
    },
    {
      "cell_type": "code",
      "execution_count": null,
      "metadata": {
        "colab": {
          "base_uri": "https://localhost:8080/"
        },
        "id": "pnGRPK4xvIGn",
        "outputId": "c3dcf246-985e-4071-872d-b5f09815c526"
      },
      "outputs": [
        {
          "name": "stdout",
          "output_type": "stream",
          "text": [
            "enter the num:5\n",
            "54321"
          ]
        }
      ],
      "source": [
        "def fun(n):\n",
        "  if n==0:\n",
        "    return\n",
        "  print(n,end=\"\")\n",
        "  fun(n-1)\n",
        "a=int(input(\"enter the num:\"))\n",
        "fun(a)"
      ]
    },
    {
      "cell_type": "code",
      "execution_count": null,
      "metadata": {
        "colab": {
          "base_uri": "https://localhost:8080/"
        },
        "id": "cD9pK4wMmo68",
        "outputId": "e225d71b-0d11-4509-f46d-6a70ed8e3831"
      },
      "outputs": [
        {
          "output_type": "stream",
          "name": "stdout",
          "text": [
            "enter the num:10\n",
            "12345678910"
          ]
        }
      ],
      "source": [
        "def fun(n):\n",
        "  if n==0:\n",
        "    return\n",
        "  fun(n-1)\n",
        "  print(n,end=\"\")\n",
        "a=int(input(\"enter the num:\"))\n",
        "fun(a)"
      ]
    },
    {
      "cell_type": "code",
      "source": [
        "def fun(n):\n",
        "    if n == 1:\n",
        "        return 0;\n",
        "    elif n % 2 == 0:\n",
        "        return 1 + fun(n / 2);\n",
        "    else:\n",
        "        return 1 + min(fun(n + 1), fun(n - 1))\n",
        "a=int(input(\"enter the num:\"))\n",
        "print(fun(a))"
      ],
      "metadata": {
        "id": "5gsi6MjyF1zQ",
        "colab": {
          "base_uri": "https://localhost:8080/"
        },
        "outputId": "693ea30b-8885-4321-d2bb-8662f19c41b2"
      },
      "execution_count": null,
      "outputs": [
        {
          "output_type": "stream",
          "name": "stdout",
          "text": [
            "enter the num:10\n",
            "4\n"
          ]
        }
      ]
    },
    {
      "cell_type": "code",
      "source": [
        "def fun(n,i=1):\n",
        "  if i*i==n:\n",
        "    return True\n",
        "  if i*i>n:\n",
        "    return False\n",
        "  return fun(n,i+1)\n",
        "a=int(input(\"enter the num:\"))\n",
        "if fun(a):\n",
        "  print(\"Perfect\")\n",
        "else:\n",
        "  print(\"Not Perfect\")"
      ],
      "metadata": {
        "id": "PPGCgU9PJNuq",
        "colab": {
          "base_uri": "https://localhost:8080/"
        },
        "outputId": "a865a419-0d92-41d6-bc77-fbf30472630b"
      },
      "execution_count": null,
      "outputs": [
        {
          "output_type": "stream",
          "name": "stdout",
          "text": [
            "enter the num:25\n",
            "Perfect\n"
          ]
        }
      ]
    },
    {
      "cell_type": "code",
      "source": [
        "def fire(matrix,i,j):\n",
        "  if i<0 or i>=len(matrix) or j<0 or j>=len(matrix[0]) or matrix[i][j]!=1:\n",
        "    return\n",
        "  matrix[i][j]=2\n",
        "  fire(matrix,i-1,j)\n",
        "  fire(matrix,i+1,j)\n",
        "  fire(matrix,i,j-1)\n",
        "  fire(matrix,i,j+1)\n",
        "\n",
        "matrix=[[1,1,0,1],\n",
        "        [1,1,0,1],\n",
        "        [1,0,0,1],\n",
        "        [1,0,1,0]]\n",
        "fire(matrix,0,0)\n",
        "count=0\n",
        "for i in range(len(matrix)):\n",
        "  for j in range(len(matrix[0])):\n",
        "    if matrix[i][j]==1:\n",
        "      count+=1\n",
        "print(count)\n",
        "\n"
      ],
      "metadata": {
        "colab": {
          "base_uri": "https://localhost:8080/"
        },
        "id": "2v1RwR55c6h5",
        "outputId": "c6396d74-7eb8-43b3-a162-13c8a4338f38"
      },
      "execution_count": null,
      "outputs": [
        {
          "output_type": "stream",
          "name": "stdout",
          "text": [
            "4\n"
          ]
        }
      ]
    },
    {
      "cell_type": "code",
      "source": [
        "def path(grid,i,j,p,n):\n",
        "  if i==n-1 and j==n-1:\n",
        "    print(p)\n",
        "    return\n",
        "  if i+1<n and grid[i][j]==1:\n",
        "    path(grid,i+1,j,p+\"D\",n)\n",
        "  if j+1<n and grid[i][j]==1:\n",
        "    path(grid,i,j+1,p+\"R\",n)\n",
        "matrix=[[1,0,0],\n",
        "        [1,1,0],\n",
        "        [1,1,1]]\n",
        "path(matrix,0,0,\"\",len(matrix))"
      ],
      "metadata": {
        "colab": {
          "base_uri": "https://localhost:8080/"
        },
        "id": "Xj1rZLDl3l-f",
        "outputId": "98cae29d-03d8-4ef9-8b24-8d787f0a3014"
      },
      "execution_count": null,
      "outputs": [
        {
          "output_type": "stream",
          "name": "stdout",
          "text": [
            "DDRR\n",
            "DRDR\n"
          ]
        }
      ]
    },
    {
      "cell_type": "code",
      "source": [
        "def isPalindrome(self, s: str) -> bool:\n",
        "  s=s.lower()\n",
        "  l,r=0,len(s)-1\n",
        "  while l<r:\n",
        "    while l<r and not s[l].isalnum():\n",
        "      l+=1\n",
        "    while l<r and not s[r].isalnum():\n",
        "      r-=1\n",
        "\n",
        "\n"
      ],
      "metadata": {
        "id": "rISqR3v9DCaT"
      },
      "execution_count": null,
      "outputs": []
    },
    {
      "cell_type": "code",
      "source": [
        "s=\"dabac\"\n",
        "m=0\n",
        "for i in range(len(s)):\n",
        "  r,l=i,i\n",
        "  while l>=0 and r<len(s) and s[l]==s[r]:\n",
        "    m=max(m,r-l+1)\n",
        "    r+=1\n",
        "    l-=1\n",
        "print(m)"
      ],
      "metadata": {
        "colab": {
          "base_uri": "https://localhost:8080/"
        },
        "id": "aqmPGZbEumP-",
        "outputId": "00aca5eb-f198-456e-bbec-b05ab8499398"
      },
      "execution_count": null,
      "outputs": [
        {
          "output_type": "stream",
          "name": "stdout",
          "text": [
            "3\n"
          ]
        }
      ]
    },
    {
      "cell_type": "code",
      "source": [
        "s=\"dabac\"\n",
        "m=0\n",
        "for i in range(len(s)):\n",
        "  r,l=i,i\n",
        "  while l>=0 and r<len(s) and s[l]==s[r]:\n",
        "    m=max(m,r-l+1)\n",
        "    r+=1\n",
        "    l-=1\n",
        "  r,l=i+1,i\n",
        "  while l>=0 and r<len(s) and s[l]==s[r]:\n",
        "    m=max(m,r-l+1)\n",
        "    r+=1\n",
        "    l-=1\n",
        "print(m)"
      ],
      "metadata": {
        "colab": {
          "base_uri": "https://localhost:8080/"
        },
        "id": "DR6d1tMoxLwz",
        "outputId": "ad9c6f93-0e1a-4e87-f688-d8dfee6a4d6d"
      },
      "execution_count": null,
      "outputs": [
        {
          "output_type": "stream",
          "name": "stdout",
          "text": [
            "3\n"
          ]
        }
      ]
    },
    {
      "cell_type": "code",
      "source": [],
      "metadata": {
        "id": "kTPNQpIr2mfX"
      },
      "execution_count": null,
      "outputs": []
    },
    {
      "cell_type": "code",
      "metadata": {
        "colab": {
          "base_uri": "https://localhost:8080/"
        },
        "id": "97b42a88",
        "outputId": "450f5746-f8b2-461b-8a2c-7cfab99a1a98"
      },
      "source": [
        "def fib(n,dp):\n",
        "  if n==1 or n==0:\n",
        "    return n\n",
        "  if dp[n]!=-1:\n",
        "    return dp[n]\n",
        "  dp[n]=fib(n-1,dp)+fib(n-2,dp)\n",
        "  return dp[n]\n",
        "\n",
        "n=int(input(\"enter the num:\"))\n",
        "dp=[-1]*(n+1)\n",
        "print(fib(n,dp))"
      ],
      "execution_count": null,
      "outputs": [
        {
          "output_type": "stream",
          "name": "stdout",
          "text": [
            "enter the num:4\n",
            "3\n"
          ]
        }
      ]
    },
    {
      "cell_type": "code",
      "source": [
        "n=int(input(\"enter the num:\"))\n",
        "dp=[-1]*(n+1)\n",
        "dp[0],dp[1]=0,1\n",
        "for i in range(2,n+1):\n",
        "  dp[i]=dp[i-1]+dp[i-2]\n",
        "print(dp)"
      ],
      "metadata": {
        "colab": {
          "base_uri": "https://localhost:8080/"
        },
        "id": "aO3EWy-i7Nb8",
        "outputId": "80f11dee-f354-4d7c-b365-263802332fba"
      },
      "execution_count": null,
      "outputs": [
        {
          "output_type": "stream",
          "name": "stdout",
          "text": [
            "enter the num:4\n",
            "3\n"
          ]
        }
      ]
    },
    {
      "cell_type": "code",
      "source": [
        "n=int(input(\"enter the num:\"))\n",
        "a,b=0,1\n",
        "for i in range (2,n+1):\n",
        "  a,b=b,a+b\n",
        "print(b)"
      ],
      "metadata": {
        "colab": {
          "base_uri": "https://localhost:8080/"
        },
        "id": "TrvUumKQDq9n",
        "outputId": "e0f401f8-cec4-4f1c-a8f5-9d7d2eae20d3"
      },
      "execution_count": null,
      "outputs": [
        {
          "output_type": "stream",
          "name": "stdout",
          "text": [
            "enter the num:4\n",
            "3\n"
          ]
        }
      ]
    },
    {
      "cell_type": "code",
      "source": [
        "def frog_jump(n,energy):\n",
        "  if n==0:\n",
        "    return 0\n",
        "  jump1=frog_jump(n-1,energy)+abs(energy[n]-energy[n-1])\n",
        "  jump2=float('inf')\n",
        "  if n>1:\n",
        "    jump2=frog_jump(n-2,energy)+abs(energy[n]-energy[n-2])\n",
        "  return min(jump1,jump2)\n",
        "energy=[30,10,60,10,60,50]\n",
        "n=len(energy)-1\n",
        "print(frog_jump(n,energy))"
      ],
      "metadata": {
        "colab": {
          "base_uri": "https://localhost:8080/"
        },
        "id": "mTByrbaSYJmJ",
        "outputId": "cae7f5be-02f8-4c06-c272-be41d7971d38"
      },
      "execution_count": null,
      "outputs": [
        {
          "output_type": "stream",
          "name": "stdout",
          "text": [
            "40\n"
          ]
        }
      ]
    },
    {
      "cell_type": "code",
      "source": [
        "def frog_jump(n,energy,dp):\n",
        "  if n==0:\n",
        "    return 0\n",
        "  if dp[n]!=-1:\n",
        "    return dp[n]\n",
        "  jump1=frog_jump(n-1,energy,dp)+abs(energy[n]-energy[n-1])\n",
        "  jump2=float('inf')\n",
        "  if n>1:\n",
        "    jump2=frog_jump(n-2,energy,dp)+abs(energy[n]-energy[n-2])\n",
        "  dp[n]=min(jump1,jump2)\n",
        "  return dp[n]\n",
        "energy=[30,10,60,10,60,50]\n",
        "n=len(energy)-1\n",
        "dp=[-1]*(n+1)\n",
        "print(frog_jump(n,energy,dp))"
      ],
      "metadata": {
        "colab": {
          "base_uri": "https://localhost:8080/"
        },
        "id": "w5cR-DYWoAMq",
        "outputId": "2e55e43e-f7ec-4af3-a768-ce50b975cfb4"
      },
      "execution_count": null,
      "outputs": [
        {
          "output_type": "stream",
          "name": "stdout",
          "text": [
            "40\n"
          ]
        }
      ]
    },
    {
      "cell_type": "code",
      "source": [
        "energy=[30,10,60,10,60,50]\n",
        "n=len(energy)\n",
        "dp=[-1]*n\n",
        "dp[0]=0\n",
        "for i in range(1,n):\n",
        "  jump1=dp[i-1]+abs(energy[i]-energy[i-1])\n",
        "  jump2=float('inf')\n",
        "  if n>1:\n",
        "    jump2=dp[i-2]+abs(energy[i]-energy[i-2])\n",
        "  dp[i]=min(jump1,jump2)\n",
        "print(dp[n-1])"
      ],
      "metadata": {
        "colab": {
          "base_uri": "https://localhost:8080/"
        },
        "id": "k2iKjbIlvSfD",
        "outputId": "9e3c66fc-4d8f-4f20-d4ae-e414be6f9fe0"
      },
      "execution_count": null,
      "outputs": [
        {
          "output_type": "stream",
          "name": "stdout",
          "text": [
            "40\n"
          ]
        }
      ]
    }
  ],
  "metadata": {
    "colab": {
      "provenance": [],
      "authorship_tag": "ABX9TyOwhTya1Nx6ybfcs+NfCKyi",
      "include_colab_link": true
    },
    "kernelspec": {
      "display_name": "Python 3",
      "name": "python3"
    },
    "language_info": {
      "name": "python"
    }
  },
  "nbformat": 4,
  "nbformat_minor": 0
}